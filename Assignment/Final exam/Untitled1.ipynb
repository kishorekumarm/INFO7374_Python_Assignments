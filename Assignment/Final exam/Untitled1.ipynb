{
 "cells": [
  {
   "cell_type": "code",
   "execution_count": 12,
   "metadata": {
    "collapsed": false
   },
   "outputs": [],
   "source": [
    "import pandas as pd\n",
    "wdf=pd.read_csv('Weather_monthly.csv')"
   ]
  },
  {
   "cell_type": "code",
   "execution_count": 15,
   "metadata": {
    "collapsed": false
   },
   "outputs": [],
   "source": [
    "wdf=wdf.merge(wsdf, left_on=['WBAN'], right_on=['WBAN'], how='outer')"
   ]
  },
  {
   "cell_type": "code",
   "execution_count": 13,
   "metadata": {
    "collapsed": false
   },
   "outputs": [
    {
     "name": "stdout",
     "output_type": "stream",
     "text": [
      "61307\n"
     ]
    },
    {
     "data": {
      "text/html": [
       "<div>\n",
       "<table border=\"1\" class=\"dataframe\">\n",
       "  <thead>\n",
       "    <tr style=\"text-align: right;\">\n",
       "      <th></th>\n",
       "      <th>WBAN</th>\n",
       "      <th>Name</th>\n",
       "      <th>State</th>\n",
       "    </tr>\n",
       "  </thead>\n",
       "  <tbody>\n",
       "    <tr>\n",
       "      <th>0</th>\n",
       "      <td>100.0</td>\n",
       "      <td>ARKADELPHIA</td>\n",
       "      <td>AR</td>\n",
       "    </tr>\n",
       "    <tr>\n",
       "      <th>1</th>\n",
       "      <td>101.0</td>\n",
       "      <td>BISHKEK</td>\n",
       "      <td>NaN</td>\n",
       "    </tr>\n",
       "    <tr>\n",
       "      <th>2</th>\n",
       "      <td>102.0</td>\n",
       "      <td>KIANA</td>\n",
       "      <td>AK</td>\n",
       "    </tr>\n",
       "    <tr>\n",
       "      <th>3</th>\n",
       "      <td>103.0</td>\n",
       "      <td>WALES</td>\n",
       "      <td>AK</td>\n",
       "    </tr>\n",
       "    <tr>\n",
       "      <th>4</th>\n",
       "      <td>104.0</td>\n",
       "      <td>NIKOLAI</td>\n",
       "      <td>AK</td>\n",
       "    </tr>\n",
       "  </tbody>\n",
       "</table>\n",
       "</div>"
      ],
      "text/plain": [
       "    WBAN         Name State\n",
       "0  100.0  ARKADELPHIA    AR\n",
       "1  101.0      BISHKEK   NaN\n",
       "2  102.0        KIANA    AK\n",
       "3  103.0        WALES    AK\n",
       "4  104.0      NIKOLAI    AK"
      ]
     },
     "execution_count": 13,
     "metadata": {},
     "output_type": "execute_result"
    }
   ],
   "source": [
    "#wsdf=pd.read_csv('weather_station.csv')\n",
    "cols = pd.read_csv('weather_station.csv', nrows=1).columns\n",
    "wsdf = pd.read_csv('weather_station.csv', usecols=cols)\n",
    "print(len(wsdf))\n",
    "wsdf=wsdf[['WBAN','Name','State']]\n",
    "wsdf.head(5)\n",
    "#len(wsdf)"
   ]
  },
  {
   "cell_type": "code",
   "execution_count": 14,
   "metadata": {
    "collapsed": false
   },
   "outputs": [
    {
     "data": {
      "text/plain": [
       "2555"
      ]
     },
     "execution_count": 14,
     "metadata": {},
     "output_type": "execute_result"
    }
   ],
   "source": [
    "wsdf=wsdf.drop_duplicates()\n",
    "len(wsdf)"
   ]
  },
  {
   "cell_type": "code",
   "execution_count": 6,
   "metadata": {
    "collapsed": false
   },
   "outputs": [
    {
     "data": {
      "text/plain": [
       "1070027"
      ]
     },
     "execution_count": 6,
     "metadata": {},
     "output_type": "execute_result"
    }
   ],
   "source": [
    "len(wdf)"
   ]
  },
  {
   "cell_type": "code",
   "execution_count": 16,
   "metadata": {
    "collapsed": false
   },
   "outputs": [
    {
     "data": {
      "text/html": [
       "<div>\n",
       "<table border=\"1\" class=\"dataframe\">\n",
       "  <thead>\n",
       "    <tr style=\"text-align: right;\">\n",
       "      <th></th>\n",
       "      <th>WBAN</th>\n",
       "      <th>YearMonth</th>\n",
       "      <th>AvgMaxTemp</th>\n",
       "      <th>DepartureMaxTemp</th>\n",
       "      <th>AvgMinTemp</th>\n",
       "      <th>DepartureMinTemp</th>\n",
       "      <th>AvgTemp</th>\n",
       "      <th>DeparturefromNormal</th>\n",
       "      <th>AvgDewPoint</th>\n",
       "      <th>AvgWetBulb</th>\n",
       "      <th>...</th>\n",
       "      <th>DaysWithPrecip&gt;=.10inch</th>\n",
       "      <th>DaysWithSnowfall&gt;=1.0inch</th>\n",
       "      <th>WaterEquivalent</th>\n",
       "      <th>ResultantWindSpeed</th>\n",
       "      <th>ResultantWindDirection</th>\n",
       "      <th>AvgWindSpeed</th>\n",
       "      <th>AvgHDD</th>\n",
       "      <th>AvgCDD</th>\n",
       "      <th>Name</th>\n",
       "      <th>State</th>\n",
       "    </tr>\n",
       "  </thead>\n",
       "  <tbody>\n",
       "    <tr>\n",
       "      <th>0</th>\n",
       "      <td>130.0</td>\n",
       "      <td>201501.0</td>\n",
       "      <td>M</td>\n",
       "      <td>M</td>\n",
       "      <td>M</td>\n",
       "      <td>M</td>\n",
       "      <td>M</td>\n",
       "      <td>M</td>\n",
       "      <td>38.5</td>\n",
       "      <td>43.6</td>\n",
       "      <td>...</td>\n",
       "      <td>M</td>\n",
       "      <td>M</td>\n",
       "      <td>M</td>\n",
       "      <td>2.6</td>\n",
       "      <td>01</td>\n",
       "      <td>4.8</td>\n",
       "      <td>15.0</td>\n",
       "      <td>0.0</td>\n",
       "      <td>PLEASANTON</td>\n",
       "      <td>TX</td>\n",
       "    </tr>\n",
       "    <tr>\n",
       "      <th>1</th>\n",
       "      <td>130.0</td>\n",
       "      <td>201502.0</td>\n",
       "      <td>M</td>\n",
       "      <td>M</td>\n",
       "      <td>M</td>\n",
       "      <td>M</td>\n",
       "      <td>M</td>\n",
       "      <td>M</td>\n",
       "      <td>42.6</td>\n",
       "      <td>M</td>\n",
       "      <td>...</td>\n",
       "      <td>M</td>\n",
       "      <td>M</td>\n",
       "      <td>M</td>\n",
       "      <td>2.2</td>\n",
       "      <td>04</td>\n",
       "      <td>M</td>\n",
       "      <td>M</td>\n",
       "      <td>M</td>\n",
       "      <td>PLEASANTON</td>\n",
       "      <td>TX</td>\n",
       "    </tr>\n",
       "    <tr>\n",
       "      <th>2</th>\n",
       "      <td>130.0</td>\n",
       "      <td>201503.0</td>\n",
       "      <td>M</td>\n",
       "      <td>M</td>\n",
       "      <td>M</td>\n",
       "      <td>M</td>\n",
       "      <td>M</td>\n",
       "      <td>M</td>\n",
       "      <td>52.2</td>\n",
       "      <td>55.5</td>\n",
       "      <td>...</td>\n",
       "      <td>M</td>\n",
       "      <td>M</td>\n",
       "      <td>M</td>\n",
       "      <td>1.7</td>\n",
       "      <td>06</td>\n",
       "      <td>4.7</td>\n",
       "      <td>M</td>\n",
       "      <td>M</td>\n",
       "      <td>PLEASANTON</td>\n",
       "      <td>TX</td>\n",
       "    </tr>\n",
       "    <tr>\n",
       "      <th>3</th>\n",
       "      <td>130.0</td>\n",
       "      <td>201504.0</td>\n",
       "      <td>M</td>\n",
       "      <td>M</td>\n",
       "      <td>M</td>\n",
       "      <td>M</td>\n",
       "      <td>M</td>\n",
       "      <td>M</td>\n",
       "      <td>62.4</td>\n",
       "      <td>M</td>\n",
       "      <td>...</td>\n",
       "      <td>M</td>\n",
       "      <td>M</td>\n",
       "      <td>M</td>\n",
       "      <td>2.4</td>\n",
       "      <td>09</td>\n",
       "      <td>5.6</td>\n",
       "      <td>0.2</td>\n",
       "      <td>7.2</td>\n",
       "      <td>PLEASANTON</td>\n",
       "      <td>TX</td>\n",
       "    </tr>\n",
       "    <tr>\n",
       "      <th>4</th>\n",
       "      <td>130.0</td>\n",
       "      <td>201505.0</td>\n",
       "      <td>M</td>\n",
       "      <td>M</td>\n",
       "      <td>M</td>\n",
       "      <td>M</td>\n",
       "      <td>M</td>\n",
       "      <td>M</td>\n",
       "      <td>68.4</td>\n",
       "      <td>71.0</td>\n",
       "      <td>...</td>\n",
       "      <td>M</td>\n",
       "      <td>M</td>\n",
       "      <td>M</td>\n",
       "      <td>6.0</td>\n",
       "      <td>11</td>\n",
       "      <td>7.7</td>\n",
       "      <td>0.0</td>\n",
       "      <td>11.8</td>\n",
       "      <td>PLEASANTON</td>\n",
       "      <td>TX</td>\n",
       "    </tr>\n",
       "  </tbody>\n",
       "</table>\n",
       "<p>5 rows × 52 columns</p>\n",
       "</div>"
      ],
      "text/plain": [
       "    WBAN  YearMonth AvgMaxTemp DepartureMaxTemp AvgMinTemp DepartureMinTemp  \\\n",
       "0  130.0   201501.0          M                M          M                M   \n",
       "1  130.0   201502.0          M                M          M                M   \n",
       "2  130.0   201503.0          M                M          M                M   \n",
       "3  130.0   201504.0          M                M          M                M   \n",
       "4  130.0   201505.0          M                M          M                M   \n",
       "\n",
       "  AvgTemp DeparturefromNormal AvgDewPoint AvgWetBulb  ...   \\\n",
       "0       M                   M        38.5       43.6  ...    \n",
       "1       M                   M        42.6          M  ...    \n",
       "2       M                   M        52.2       55.5  ...    \n",
       "3       M                   M        62.4          M  ...    \n",
       "4       M                   M        68.4       71.0  ...    \n",
       "\n",
       "  DaysWithPrecip>=.10inch DaysWithSnowfall>=1.0inch WaterEquivalent  \\\n",
       "0                       M                         M               M   \n",
       "1                       M                         M               M   \n",
       "2                       M                         M               M   \n",
       "3                       M                         M               M   \n",
       "4                       M                         M               M   \n",
       "\n",
       "  ResultantWindSpeed ResultantWindDirection AvgWindSpeed AvgHDD AvgCDD  \\\n",
       "0                2.6                     01          4.8   15.0    0.0   \n",
       "1                2.2                     04            M      M      M   \n",
       "2                1.7                     06          4.7      M      M   \n",
       "3                2.4                     09          5.6    0.2    7.2   \n",
       "4                6.0                     11          7.7    0.0   11.8   \n",
       "\n",
       "         Name State  \n",
       "0  PLEASANTON    TX  \n",
       "1  PLEASANTON    TX  \n",
       "2  PLEASANTON    TX  \n",
       "3  PLEASANTON    TX  \n",
       "4  PLEASANTON    TX  \n",
       "\n",
       "[5 rows x 52 columns]"
      ]
     },
     "execution_count": 16,
     "metadata": {},
     "output_type": "execute_result"
    }
   ],
   "source": [
    "wdf.head(5)"
   ]
  },
  {
   "cell_type": "code",
   "execution_count": 19,
   "metadata": {
    "collapsed": false
   },
   "outputs": [
    {
     "name": "stdout",
     "output_type": "stream",
     "text": [
      "43869\n",
      "20142\n"
     ]
    }
   ],
   "source": [
    "wdf=wdf[['YearMonth','Name','State','AvgTemp']]\n",
    "wdf=wdf.drop_duplicates()\n",
    "print(len(wdf))\n",
    "print(len(wdf[wdf['AvgTemp']=='M']))"
   ]
  }
 ],
 "metadata": {
  "kernelspec": {
   "display_name": "Python 2",
   "language": "python",
   "name": "python2"
  },
  "language_info": {
   "codemirror_mode": {
    "name": "ipython",
    "version": 2
   },
   "file_extension": ".py",
   "mimetype": "text/x-python",
   "name": "python",
   "nbconvert_exporter": "python",
   "pygments_lexer": "ipython2",
   "version": "2.7.1"
  }
 },
 "nbformat": 4,
 "nbformat_minor": 1
}
