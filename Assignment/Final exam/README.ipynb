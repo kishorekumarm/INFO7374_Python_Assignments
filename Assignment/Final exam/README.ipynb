{
 "cells": [
  {
   "cell_type": "markdown",
   "metadata": {},
   "source": [
    "# INFO 7374 - Emotion Analysis with imdb, temperature and twitter data"
   ]
  },
  {
   "cell_type": "markdown",
   "metadata": {},
   "source": [
    "# Introduction"
   ]
  },
  {
   "cell_type": "markdown",
   "metadata": {},
   "source": [
    "<table width=\"100%\">\n",
    "<tr>\n",
    "<td><img src=\"weather.jpeg\"></td>\n",
    "<td><p align=\"center\"><img src=\"twitter.png\"></td>\n",
    "<td align=\"right\"><img src=\"imdb.png\"><td>\n",
    "</tr>"
   ]
  },
  {
   "cell_type": "markdown",
   "metadata": {},
   "source": [
    "The Analysis done is to assess the mindset of people living in a particular location by combining the imdb ratings information, movie awards won information, tweets that people make and the weather data. Our results indeed prove that there is positive correlation between type of movies people prefer and weather of a particular location. Ex: US prefers animation movies the most in Summer."
   ]
  },
  {
   "cell_type": "markdown",
   "metadata": {},
   "source": [
    "# Data Collection"
   ]
  },
  {
   "cell_type": "markdown",
   "metadata": {},
   "source": [
    "Data collected from three different sources:\n",
    "    - IMDB Database(API)\n",
    "    - Twitter Data(API)\n",
    "    - Temperature Data(ZIP-CSV)"
   ]
  },
  {
   "cell_type": "markdown",
   "metadata": {},
   "source": [
    "# Step-1 Data Collection:"
   ]
  },
  {
   "cell_type": "markdown",
   "metadata": {},
   "source": [
    "# 1. Read_imdb  Calling syntax: - python read_imdb.py --sd 2012 --ed 2013"
   ]
  },
  {
   "cell_type": "markdown",
   "metadata": {},
   "source": [
    "I/P:"
   ]
  },
  {
   "cell_type": "markdown",
   "metadata": {},
   "source": [
    "--sd start year"
   ]
  },
  {
   "cell_type": "markdown",
   "metadata": {},
   "source": [
    "--ed end year"
   ]
  },
  {
   "cell_type": "markdown",
   "metadata": {},
   "source": [
    "Pre-req: title.csv file that has list of all inputs"
   ]
  },
  {
   "cell_type": "markdown",
   "metadata": {},
   "source": [
    "O/P-1: Under Movies folder, automatic creation of subfolders with syntax 'Movies_<sd>_<ed>_yyyymmdd' "
   ]
  },
  {
   "cell_type": "markdown",
   "metadata": {},
   "source": [
    "O/P-2: Under every created folder, clean json file for every movie will be fetched by passing movie title from title.csv file --> Stored as <imdbid>_<ReleaseYear>.json"
   ]
  },
  {
   "cell_type": "markdown",
   "metadata": {},
   "source": [
    "# 2.process_imdb_csv calling syntax python process_imdb_csv.py"
   ]
  },
  {
   "cell_type": "markdown",
   "metadata": {},
   "source": [
    "I/P: No Input parameters"
   ]
  },
  {
   "cell_type": "markdown",
   "metadata": {},
   "source": [
    "O/P: Process_movie.csv - csv version of json files generated in earlier step"
   ]
  },
  {
   "cell_type": "markdown",
   "metadata": {},
   "source": [
    "# 3.read_movie_tweets calling syntax python read_movie_tweets.py --c 200 --y 2016"
   ]
  },
  {
   "cell_type": "markdown",
   "metadata": {},
   "source": [
    "I/P: Number of tweets to be fetched per movie using --c and movie released in a particular year using --y"
   ]
  },
  {
   "cell_type": "markdown",
   "metadata": {},
   "source": [
    "Processing: This internally calls read_tweets.py --i imdbid --s searchterm --movie --c count\n",
    "\n",
    " - Since we have limits in fetching tweets. Only \"--c\" tweets in every genre will be fetched for a given year.\n",
    " - Fetched raw tweets for every movie is saved in tweets folder under tweets/<Searchmovietitle>/<yyyymmdd>/<imdb-id>_<search-movie-title>_<yyyymmdd>_<hhmiss>.json\n",
    " - Processed individual tweets are saved in Processed_tweets/<imdbid>_<Searchmovietitle>_<yyyymmdd>_<hhmiss>.json"
   ]
  },
  {
   "cell_type": "markdown",
   "metadata": {},
   "source": [
    "# 4.process_tweets calling syntax python process_tweets.py"
   ]
  },
  {
   "cell_type": "markdown",
   "metadata": {},
   "source": [
    "I/P: No Input parameters"
   ]
  },
  {
   "cell_type": "markdown",
   "metadata": {},
   "source": [
    "O/P: Process_tweets.csv - csv version of json files generated in earlier step"
   ]
  },
  {
   "cell_type": "markdown",
   "metadata": {},
   "source": [
    "# 5.weather (Src:https://www.ncdc.noaa.gov/orders/qclcd/):"
   ]
  },
  {
   "cell_type": "markdown",
   "metadata": {},
   "source": [
    "python unzip_files.py\n",
    "\n",
    "O/P: unzipped version - Only saves Station and monthly weather details in their respective folders"
   ]
  },
  {
   "cell_type": "markdown",
   "metadata": {},
   "source": [
    "python combinecsv.py (Also converts '|' separation in station files to csv)\n",
    "\n",
    "O/P: Combines multiple csvs created for station and weather-monthly, eliminating csv headers and save them as 'weather_monthly.csv' and 'weather_station.csv' respectively"
   ]
  },
  {
   "cell_type": "markdown",
   "metadata": {},
   "source": [
    "python weather_state_yrmonth\n",
    "\n",
    "O/P: Joins on WBAN (Station-code) and produces a single file for processing"
   ]
  },
  {
   "cell_type": "markdown",
   "metadata": {},
   "source": [
    "# Step-2 Data Processing:"
   ]
  },
  {
   "cell_type": "markdown",
   "metadata": {},
   "source": [
    "# 1.Geographic Genre Distribution calling syntax python analysis1_csv_geo_year_genredist.py"
   ]
  },
  {
   "cell_type": "markdown",
   "metadata": {},
   "source": [
    "Step-1: Create Separate Genre file (Genres are ';' separated). Genre.csv has imdbID and Genre in it"
   ]
  },
  {
   "cell_type": "markdown",
   "metadata": {},
   "source": [
    "Step-2: Create Separate Country file (Countryes are ';' separated). Country.csv has imdbID and Country in it"
   ]
  },
  {
   "cell_type": "markdown",
   "metadata": {},
   "source": [
    "Step-3: Calculate imdbNetRating: imdBnetRating = imdBRating * imdBvotes"
   ]
  },
  {
   "cell_type": "markdown",
   "metadata": {},
   "source": [
    "Step-4: Join Movie, Genre and Country on imdbID"
   ]
  },
  {
   "cell_type": "markdown",
   "metadata": {},
   "source": [
    "Step-5: Calculate Arithmetic mean for imdBnetRating on (Country,Genre,Released) combinatin"
   ]
  },
  {
   "cell_type": "markdown",
   "metadata": {},
   "source": [
    "Step-6: write to Geo_year_genredist.csv"
   ]
  },
  {
   "cell_type": "markdown",
   "metadata": {},
   "source": [
    "# 2.Genre Distribution with respect to retweet+favorite count over years calling syntax python analysis2_csv_tweets_genre_yrmonth.py"
   ]
  },
  {
   "cell_type": "markdown",
   "metadata": {},
   "source": [
    "Step-1: Calculate Famous_Count=Retweetcount+Favoritecount for every record"
   ]
  },
  {
   "cell_type": "markdown",
   "metadata": {},
   "source": [
    "Step-2: Join tweet and tweet_created_year on imdb id"
   ]
  },
  {
   "cell_type": "markdown",
   "metadata": {},
   "source": [
    "Step-3: Calculate arithmetic Mean of Famous_count on (Genre, Released Year, Released Month) combination"
   ]
  },
  {
   "cell_type": "markdown",
   "metadata": {},
   "source": [
    "Step-4: write to tweets_genre_yrmonth.csv"
   ]
  },
  {
   "cell_type": "markdown",
   "metadata": {},
   "source": [
    "# 3.Correlation between temperature and rating calling syntax python analysis3_csv_temp_genre_netrating.py"
   ]
  },
  {
   "cell_type": "markdown",
   "metadata": {},
   "source": [
    "Step-1: Separate all Released date info to Date, Year, Month using pd.to_datetime()"
   ]
  },
  {
   "cell_type": "markdown",
   "metadata": {},
   "source": [
    "Step-2: Compute National level monthly temperature dist"
   ]
  },
  {
   "cell_type": "markdown",
   "metadata": {},
   "source": [
    "Step-3: Join temperature data with movie data on Month, Year combination"
   ]
  },
  {
   "cell_type": "markdown",
   "metadata": {},
   "source": [
    "Step-4: Compute average(imdbNetrating) at (Genre,temperature) level"
   ]
  },
  {
   "cell_type": "markdown",
   "metadata": {},
   "source": [
    "Step-5: write to temp_genre_netrating.csv"
   ]
  },
  {
   "cell_type": "markdown",
   "metadata": {},
   "source": [
    "# 4.Genre wise performance of a director python analysis4_dir_genre_netrating.py"
   ]
  },
  {
   "cell_type": "markdown",
   "metadata": {},
   "source": [
    "Step-1: Create Director Genre file (Directors are ';' separated). Director.csv has imdbID and Director in it"
   ]
  },
  {
   "cell_type": "markdown",
   "metadata": {},
   "source": [
    "Step-2: Join Director file with movie file on imdbID"
   ]
  },
  {
   "cell_type": "markdown",
   "metadata": {},
   "source": [
    "Step-3: Compute average(imdbNetrating) at (Genre,Director) level"
   ]
  },
  {
   "cell_type": "markdown",
   "metadata": {},
   "source": [
    "Step-4: write to dir_genre_netrating.csv "
   ]
  },
  {
   "cell_type": "markdown",
   "metadata": {},
   "source": [
    "# 5.Distribution of awards by language and genre: python analysis5_csv_lang_genre_awards.py"
   ]
  },
  {
   "cell_type": "markdown",
   "metadata": {},
   "source": [
    "Step-1: Compute Awards_won and Awards_nominated using  Awards field in Movies (NLP convept)"
   ]
  },
  {
   "cell_type": "markdown",
   "metadata": {},
   "source": [
    "Step-2: Create Language file (Languages are ';' separated). Language.csv has imdbID and Language in it"
   ]
  },
  {
   "cell_type": "markdown",
   "metadata": {},
   "source": [
    "Step-3: Join Language file with movie file on imdbID"
   ]
  },
  {
   "cell_type": "markdown",
   "metadata": {},
   "source": [
    "Step-4 Aggregate Awards_won at Genre and language level"
   ]
  },
  {
   "cell_type": "markdown",
   "metadata": {},
   "source": [
    "Step-5: Write to lang_genre_awards.csv"
   ]
  },
  {
   "cell_type": "markdown",
   "metadata": {},
   "source": [
    "# Step-3 Data Analysis:"
   ]
  },
  {
   "cell_type": "markdown",
   "metadata": {},
   "source": [
    "# 1.Genre wise performance of a director python analysis4_dir_genre_netrating.py"
   ]
  },
  {
   "cell_type": "markdown",
   "metadata": {},
   "source": [
    "Following analysis shows the genre, a particular movie director is good at. The code takes Director as input and internally computes the ratings and provides us a bar plot that clearly shows the type of movie that a director is good at.\n",
    "\n",
    "<img src=\"analysis1_dir_genre_netrating.png\">"
   ]
  },
  {
   "cell_type": "markdown",
   "metadata": {},
   "source": [
    "# 2.Correlation between temperature and rating calling syntax python analysis3_csv_temp_genre_netrating.py"
   ]
  },
  {
   "cell_type": "markdown",
   "metadata": {},
   "source": [
    "Following analysis helps us to see the correlation between net imdb rating (imdbrating * number of votes) against weather in a particular area. Notice, that Action movies has negative correlation with temperature while Animation movies has positive correlation with temperature. In other words, people prefer action movies the least in summer and they prefer animation the most in summer.\n",
    "\n",
    "<img src=\"analysis2_temp_genre_netrating.png\">"
   ]
  },
  {
   "cell_type": "markdown",
   "metadata": {},
   "source": [
    "# 3.Genre Distribution with respect to Net tweet count over years"
   ]
  },
  {
   "cell_type": "markdown",
   "metadata": {},
   "source": [
    "Following analysis helps us to visualize the tweet count distribution for a particular genre over few years. This further confirms the results receieved from Analysis-2 as we notice, Animation movies are most tweeted among the list of movies in Summer.\n",
    "\n",
    "<img src=\"analysis3_tweets_genre_yrmnth.png\">"
   ]
  },
  {
   "cell_type": "markdown",
   "metadata": {},
   "source": [
    "# 4. Geographic distribution of genre with respect to time"
   ]
  },
  {
   "cell_type": "markdown",
   "metadata": {
    "collapsed": true
   },
   "source": [
    "Following analysis helps us to understand the geographic distribution of genre preference for a country aross years.\n",
    "\n",
    "<img src=\"analysis1_geo_country_comedy_rating.png\">\n",
    "\n",
    "<img src=\"analysis1_geo_country_Action_rating.png\">"
   ]
  },
  {
   "cell_type": "markdown",
   "metadata": {},
   "source": [
    "# 5. Language wise Award distribution"
   ]
  },
  {
   "cell_type": "markdown",
   "metadata": {},
   "source": [
    "Following analysis helps us to analyse the best performing genres across foreign language movies.\n",
    "\n",
    "<img src=\"analysis5_lang_mov_most_awards.png\">"
   ]
  },
  {
   "cell_type": "code",
   "execution_count": null,
   "metadata": {
    "collapsed": true
   },
   "outputs": [],
   "source": []
  }
 ],
 "metadata": {
  "kernelspec": {
   "display_name": "Python 2",
   "language": "python",
   "name": "python2"
  },
  "language_info": {
   "codemirror_mode": {
    "name": "ipython",
    "version": 2
   },
   "file_extension": ".py",
   "mimetype": "text/x-python",
   "name": "python",
   "nbconvert_exporter": "python",
   "pygments_lexer": "ipython2",
   "version": "2.7.1"
  }
 },
 "nbformat": 4,
 "nbformat_minor": 1
}
