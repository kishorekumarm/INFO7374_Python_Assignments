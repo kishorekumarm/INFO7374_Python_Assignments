{
 "cells": [
  {
   "cell_type": "markdown",
   "metadata": {},
   "source": [
    "# 1-a.List numbers between 1 and 500, which are multiples of 7 and 3"
   ]
  },
  {
   "cell_type": "code",
   "execution_count": 208,
   "metadata": {
    "collapsed": false
   },
   "outputs": [
    {
     "data": {
      "text/plain": [
       "[21,\n",
       " 42,\n",
       " 63,\n",
       " 84,\n",
       " 105,\n",
       " 126,\n",
       " 147,\n",
       " 168,\n",
       " 189,\n",
       " 210,\n",
       " 231,\n",
       " 252,\n",
       " 273,\n",
       " 294,\n",
       " 315,\n",
       " 336,\n",
       " 357,\n",
       " 378,\n",
       " 399,\n",
       " 420,\n",
       " 441,\n",
       " 462,\n",
       " 483]"
      ]
     },
     "execution_count": 208,
     "metadata": {},
     "output_type": "execute_result"
    }
   ],
   "source": [
    "myList=[]\n",
    "index=0\n",
    "for i in range(0,500,21):\n",
    "    if i!=0:\n",
    "        myList.insert(index,i);\n",
    "        index+=1\n",
    "myList  "
   ]
  },
  {
   "cell_type": "markdown",
   "metadata": {},
   "source": [
    "# 1-b.Mean,1st quartile,2nd quartile and 3rd quartile"
   ]
  },
  {
   "cell_type": "code",
   "execution_count": 81,
   "metadata": {
    "collapsed": false
   },
   "outputs": [
    {
     "name": "stdout",
     "output_type": "stream",
     "text": [
      "Mean: 252.0\n",
      "First Quartile: 126\n",
      "Second Quartile: 252\n",
      "Third Quartile: 378\n"
     ]
    }
   ],
   "source": [
    "import math\n",
    "myList=[]\n",
    "index=0\n",
    "sm=0\n",
    "for i in range(0,500,21):\n",
    "    if i!=0:\n",
    "        myList.insert(index,i);\n",
    "        index+=1\n",
    "for i in range(0,index):\n",
    "    sm+=myList[i]\n",
    "Mean=sm/index\n",
    "print('Mean:',Mean)\n",
    "#print(sm,index)\n",
    "#print('1 element',myList[1])\n",
    "if (index+1)%2==0:\n",
    "    #print(\"nI\")\n",
    "    print('First Quartile:',myList[round((index+1)/4)-1])\n",
    "    print('Second Quartile:',myList[round((index+1)/2)-1])\n",
    "    print('Third Quartile:',myList[round((index+1)*0.75)-1])\n",
    "else:\n",
    "    #print('round:',(index+1)/2,math.floor((index-1)/2),math.ceil((index-1)/2),myList[math.floor((index+1)/2)],myList[(math.ceil((index+1)/2))])\n",
    "    print('First Quartile:',(myList[math.floor((index-1)/4)]+myList[(math.ceil((index-1)/4))])/2)\n",
    "    print('Second Quartile:',(myList[math.floor((index-1)/2)]+myList[(math.ceil((index-1)/2))])/2)\n",
    "    print('Third Quartile:',(myList[math.floor((index-1)*0.75)]+myList[(math.ceil((index-1)*0.75))])/2)"
   ]
  },
  {
   "cell_type": "markdown",
   "metadata": {},
   "source": [
    "# 2-a.Print number of words in a file"
   ]
  },
  {
   "cell_type": "code",
   "execution_count": 1,
   "metadata": {
    "collapsed": false
   },
   "outputs": [
    {
     "name": "stdout",
     "output_type": "stream",
     "text": [
      "Number of words: 309\n"
     ]
    }
   ],
   "source": [
    "import os\n",
    "myfile = open(\"ques2.txt\").read()\n",
    "count=0\n",
    "for word in myfile.split():\n",
    "    count+=1\n",
    "print('Number of words:',count)"
   ]
  },
  {
   "cell_type": "markdown",
   "metadata": {},
   "source": [
    "# 2-b.Print Average,Median and Mode for word length"
   ]
  },
  {
   "cell_type": "code",
   "execution_count": 8,
   "metadata": {
    "collapsed": false
   },
   "outputs": [
    {
     "name": "stdout",
     "output_type": "stream",
     "text": [
      "Mean: 5.618122977346278\n",
      "Median: 5\n",
      "Mode 2\n"
     ]
    }
   ],
   "source": [
    "import os\n",
    "from collections import Counter\n",
    "myfile = open(\"ques2.txt\").read()\n",
    "count=0\n",
    "index=0\n",
    "sm=0\n",
    "myList=[]\n",
    "for word in myfile.split():\n",
    "    myList.insert(index,len(word))\n",
    "    index+=1\n",
    "for i in range(0,index):\n",
    "    sm+=myList[i]\n",
    "#print(myList)\n",
    "#print(len(myList))\n",
    "Mean=sm/len(myList)\n",
    "print('Mean:',Mean)\n",
    "if (index+1)%2==0:\n",
    "    #print(\"nI\")\n",
    "    print('Median:',myList[round((index+1)/2)-1])\n",
    "else:\n",
    "    #print('round:',(index+1)/2,math.floor((index-1)/2),math.ceil((index-1)/2),myList[math.floor((index+1)/2)],myList[(math.ceil((index+1)/2))])\n",
    "    print('Median:',(myList[math.floor((index-1)/2)]+myList[(math.ceil((index-1)/2))])/2)\n",
    "D=Counter(myList)\n",
    "\n",
    "for wordlen,occ in D.items():\n",
    "    if occ == max(D.values()):\n",
    "        print('Mode',wordlen)\n",
    "    "
   ]
  },
  {
   "cell_type": "markdown",
   "metadata": {
    "collapsed": true
   },
   "source": [
    "# 3-a. Number of files that contain 'User Not Found'"
   ]
  },
  {
   "cell_type": "code",
   "execution_count": 10,
   "metadata": {
    "collapsed": false,
    "scrolled": true
   },
   "outputs": [
    {
     "name": "stdout",
     "output_type": "stream",
     "text": [
      "Number of files: 877\n"
     ]
    }
   ],
   "source": [
    "import os\n",
    "import json\n",
    "count=0\n",
    "loc=\"jsons\"\n",
    "for filename in os.listdir(loc):\n",
    "    if filename.endswith(\".json\"):\n",
    "        with open(loc+'/'+filename) as data_file:\n",
    "            data = json.load(data_file)\n",
    "            if data.get(\"name\",'none').upper()=='USER NOT FOUND':\n",
    "                count+=1\n",
    "            #print(data.items)\n",
    "    \n",
    "print( 'Number of files:', count)\n",
    "    "
   ]
  },
  {
   "cell_type": "markdown",
   "metadata": {},
   "source": [
    "# 3-b. Dictionary containing Present flag = 0 (Userid,present) Print Random 5 entries"
   ]
  },
  {
   "cell_type": "code",
   "execution_count": 11,
   "metadata": {
    "collapsed": false
   },
   "outputs": [
    {
     "name": "stdout",
     "output_type": "stream",
     "text": [
      "Random 5 entries:\n",
      "('vrKT0K2SJRYOsouWIIbyeuw0aFKMv4vk', 0)\n",
      "('vOL3ZEVv1BDmQL5', 0)\n",
      "('APADpQOO1BM4yi5', 0)\n",
      "('VHwu1ng61BM9of5', 0)\n",
      "('G9H8MqIk1BIQr85', 0)\n"
     ]
    }
   ],
   "source": [
    "import os\n",
    "import json\n",
    "count=0\n",
    "\n",
    "D={}\n",
    "D.clear()\n",
    "loc=\"jsons\"\n",
    "for filename in os.listdir(loc):\n",
    "    if filename.endswith(\".json\"):\n",
    "        s=filename.split('.json')\n",
    "        \n",
    "        with open(loc+'/'+filename) as data_file:\n",
    "            data = json.load(data_file)\n",
    "            if data.get(\"name\",'none').upper()=='USER NOT FOUND':\n",
    "                D.update({s[0]: 0})\n",
    "               \n",
    "                \n",
    "            else:\n",
    "                D.update({s[0]: 1})\n",
    "\n",
    "print('Random 5 entries:')\n",
    "for i in range(5):\n",
    "    print(D.popitem())\n",
    "                "
   ]
  },
  {
   "cell_type": "markdown",
   "metadata": {},
   "source": [
    "# 4. Count number of first party and third party segments "
   ]
  },
  {
   "cell_type": "code",
   "execution_count": 16,
   "metadata": {
    "collapsed": false,
    "scrolled": true
   },
   "outputs": [
    {
     "name": "stdout",
     "output_type": "stream",
     "text": [
      "Random 15 entries:\n",
      "('vrKT0K2SJRYOsouWIIbyeuw0aFKMv4vk', {'first': 0, 'third': 0})\n",
      "('vOL3ZEVv1BDmQL5', {'first': 0, 'third': 0})\n",
      "('APADpQOO1BM4yi5', {'first': 0, 'third': 0})\n",
      "('VHwu1ng61BM9of5', {'first': 0, 'third': 0})\n",
      "('G9H8MqIk1BIQr85', {'first': 0, 'third': 0})\n",
      "('rpAP9qvF1An8yx5', {'first': 0, 'third': 0})\n",
      "('vktEJ73Q1BMug82', {'first': 0, 'third': 0})\n",
      "('ZnrJ1QXr1AuC3x5', {'first': 2, 'third': 0})\n",
      "('BCDWzKvG1BMa4n2', {'first': 0, 'third': 0})\n",
      "('vksYxtk71BqBWj5', {'first': 281, 'third': 765})\n",
      "('VQPAc4fU1BMnsM5', {'first': 0, 'third': 0})\n",
      "('VrTTHjPB1BvB5i5', {'first': 0, 'third': 0})\n",
      "('R95KtvoQ1AsWvW5', {'first': 0, 'third': 0})\n",
      "('BCcdToTa1BJwMo5', {'first': 0, 'third': 0})\n",
      "('WQuLQDyn1BLrNE5', {'first': 0, 'third': 6})\n"
     ]
    }
   ],
   "source": [
    "import os\n",
    "import json\n",
    "count=0\n",
    "D=[]\n",
    "segDict={}\n",
    "D.clear()\n",
    "fcount=0\n",
    "FinDict={}\n",
    "loc=\"jsons\"\n",
    "for filename in os.listdir(loc):\n",
    "    if filename.endswith(\".json\"):\n",
    "        s=filename.split('.json')\n",
    "        count_0=0\n",
    "        count_1=0        \n",
    "        with open(loc+'/'+filename) as data_file:\n",
    "            IntDict={'first': 0,'third':0}\n",
    "            data = json.load(data_file)\n",
    "            if data.get(\"retargetingSegments\",'none')!='none':\n",
    "                D=data.get(\"retargetingSegments\",'none')\n",
    "                for i in range(0,len(D)):\n",
    "                    segDict=D[i]\n",
    "                    if segDict.get(\"segmentUid\")[0]=='0':\n",
    "                        count_0=count_0+1\n",
    "                        IntDict.update({'first': count_0})\n",
    "                        \n",
    "                        \n",
    "                    elif segDict.get(\"segmentUid\")[0]=='1':\n",
    "                        count_1=count_1+1\n",
    "                        IntDict.update({'third': count_1})\n",
    "                        \n",
    "                fcount=fcount+1   \n",
    "                    \n",
    "        FinDict.update({s[0]:IntDict})\n",
    "            \n",
    "#print(data)\n",
    "#print(D)\n",
    "#print(len(D))\n",
    "#print(count_0)\n",
    "#print(count_1)\n",
    "#print(FinDict)\n",
    "#print(fcount)\n",
    "print('Random 15 entries:')\n",
    "for i in range(15):\n",
    "    print(FinDict.popitem())"
   ]
  },
  {
   "cell_type": "code",
   "execution_count": null,
   "metadata": {
    "collapsed": true
   },
   "outputs": [],
   "source": []
  }
 ],
 "metadata": {
  "kernelspec": {
   "display_name": "Python 3",
   "language": "python",
   "name": "python3"
  },
  "language_info": {
   "codemirror_mode": {
    "name": "ipython",
    "version": 3
   },
   "file_extension": ".py",
   "mimetype": "text/x-python",
   "name": "python",
   "nbconvert_exporter": "python",
   "pygments_lexer": "ipython3",
   "version": "3.5.2"
  }
 },
 "nbformat": 4,
 "nbformat_minor": 1
}
